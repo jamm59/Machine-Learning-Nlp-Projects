{
 "cells": [
  {
   "cell_type": "markdown",
   "id": "4e56ef88",
   "metadata": {},
   "source": [
    "## Imports "
   ]
  },
  {
   "cell_type": "code",
   "execution_count": 23,
   "id": "cb841026",
   "metadata": {},
   "outputs": [],
   "source": [
    "import spacy\n",
    "import os,random\n",
    "import numpy as np\n",
    "import pandas as pd\n",
    "import tensorflow as tf\n",
    "import matplotlib.pyplot as plt\n",
    "from pickle import dump,load\n",
    "from tensorflow.keras.preprocessing.image import ImageDataGenerator\n",
    "from tensorflow.keras.utils import to_categorical\n",
    "from tensorflow.keras.models import Sequential,Model\n",
    "from tensorflow.keras.preprocessing.sequence import pad_sequences\n",
    "from tensorflow.keras.preprocessing.text import Tokenizer\n",
    "from tensorflow.keras.layers import LSTM,Bidirectional,Dense,Embedding,GRU,Input,Conv2D,MaxPool2D,Dropout,Flatten"
   ]
  },
  {
   "cell_type": "markdown",
   "id": "147f01a6",
   "metadata": {},
   "source": [
    "# model"
   ]
  },
  {
   "cell_type": "code",
   "execution_count": 24,
   "id": "fdc45d4f",
   "metadata": {},
   "outputs": [],
   "source": [
    "def encoder(vocabSize,seqLength):\n",
    "    encoderInput = Input(shape=(None,),name='encoderInput')\n",
    "    net = Embedding(vocabSize,seqLength)(encoderInput)\n",
    "    net = Bidirectional(LSTM(250,return_sequences=True))(net)\n",
    "    net = Bidirectional(LSTM(250,return_sequences=True))(net)\n",
    "    net = Bidirectional(LSTM(250,return_sequences=False))(net)\n",
    "    net = Dense(250,activation='tanh')(net)\n",
    "    encoderOutput = net\n",
    "    return encoderInput,encoderOutput"
   ]
  },
  {
   "cell_type": "code",
   "execution_count": 25,
   "id": "30eb4c10",
   "metadata": {},
   "outputs": [],
   "source": [
    "def decoder(initState,vocabSize,seqLength):\n",
    "    decoderInput = Input(shape=(None,),name='decoderInput')\n",
    "    net = Embedding(vocabSize,seqLength)(decoderInput)\n",
    "    net = GRU(250,return_sequences=True)(net,initial_state=initState)\n",
    "    net = GRU(250,return_sequences=True)(net,initial_state=initState)\n",
    "    net = GRU(250,return_sequences=True)(net,initial_state=initState)\n",
    "    net = Dropout(0.1)(net)\n",
    "    net = Dense(vocabSize,activation='softmax',name='decoderOutput')(net)\n",
    "    decoderOutput = net\n",
    "    return decoderInput,decoderOutput"
   ]
  },
  {
   "cell_type": "markdown",
   "id": "ad79b49f",
   "metadata": {},
   "source": [
    "# Data Preprocessing"
   ]
  },
  {
   "cell_type": "code",
   "execution_count": 29,
   "id": "ede7498d",
   "metadata": {},
   "outputs": [],
   "source": [
    "nlp = spacy.load('en_core_web_md')"
   ]
  },
  {
   "cell_type": "code",
   "execution_count": 30,
   "id": "830068b4",
   "metadata": {},
   "outputs": [],
   "source": [
    "tokenizer = Tokenizer(lower='False')"
   ]
  },
  {
   "cell_type": "code",
   "execution_count": 31,
   "id": "6147410d",
   "metadata": {},
   "outputs": [],
   "source": [
    "start,end = '<start>','<end>'"
   ]
  },
  {
   "cell_type": "code",
   "execution_count": 43,
   "id": "c5efaf95",
   "metadata": {},
   "outputs": [],
   "source": [
    "data = pd.read_csv('wordNumber.csv')[:10000]"
   ]
  },
  {
   "cell_type": "code",
   "execution_count": 44,
   "id": "9af7100d",
   "metadata": {},
   "outputs": [
    {
     "data": {
      "text/html": [
       "<div>\n",
       "<style scoped>\n",
       "    .dataframe tbody tr th:only-of-type {\n",
       "        vertical-align: middle;\n",
       "    }\n",
       "\n",
       "    .dataframe tbody tr th {\n",
       "        vertical-align: top;\n",
       "    }\n",
       "\n",
       "    .dataframe thead th {\n",
       "        text-align: right;\n",
       "    }\n",
       "</style>\n",
       "<table border=\"1\" class=\"dataframe\">\n",
       "  <thead>\n",
       "    <tr style=\"text-align: right;\">\n",
       "      <th></th>\n",
       "      <th>Unnamed: 0</th>\n",
       "      <th>nums</th>\n",
       "      <th>words</th>\n",
       "    </tr>\n",
       "  </thead>\n",
       "  <tbody>\n",
       "    <tr>\n",
       "      <th>0</th>\n",
       "      <td>0</td>\n",
       "      <td>8050006</td>\n",
       "      <td>eight million, fifty thousand and six</td>\n",
       "    </tr>\n",
       "    <tr>\n",
       "      <th>1</th>\n",
       "      <td>1</td>\n",
       "      <td>75515</td>\n",
       "      <td>seventy-five thousand, five hundred and fifteen</td>\n",
       "    </tr>\n",
       "    <tr>\n",
       "      <th>2</th>\n",
       "      <td>2</td>\n",
       "      <td>9285557</td>\n",
       "      <td>nine million, two hundred and eighty-five thou...</td>\n",
       "    </tr>\n",
       "    <tr>\n",
       "      <th>3</th>\n",
       "      <td>3</td>\n",
       "      <td>606467</td>\n",
       "      <td>six hundred and six thousand, four hundred and...</td>\n",
       "    </tr>\n",
       "    <tr>\n",
       "      <th>4</th>\n",
       "      <td>4</td>\n",
       "      <td>268340</td>\n",
       "      <td>two hundred and sixty-eight thousand, three hu...</td>\n",
       "    </tr>\n",
       "  </tbody>\n",
       "</table>\n",
       "</div>"
      ],
      "text/plain": [
       "   Unnamed: 0     nums                                              words\n",
       "0           0  8050006              eight million, fifty thousand and six\n",
       "1           1    75515    seventy-five thousand, five hundred and fifteen\n",
       "2           2  9285557  nine million, two hundred and eighty-five thou...\n",
       "3           3   606467  six hundred and six thousand, four hundred and...\n",
       "4           4   268340  two hundred and sixty-eight thousand, three hu..."
      ]
     },
     "execution_count": 44,
     "metadata": {},
     "output_type": "execute_result"
    }
   ],
   "source": [
    "data.head()"
   ]
  },
  {
   "cell_type": "code",
   "execution_count": 45,
   "id": "1fb8274e",
   "metadata": {},
   "outputs": [],
   "source": [
    "numbers,words = data.nums,data.words"
   ]
  },
  {
   "cell_type": "code",
   "execution_count": 46,
   "id": "21d4556b",
   "metadata": {},
   "outputs": [],
   "source": [
    "numbers = [[char for char in str(word)] for word in numbers]"
   ]
  },
  {
   "cell_type": "code",
   "execution_count": 47,
   "id": "600550cd",
   "metadata": {},
   "outputs": [
    {
     "data": {
      "text/plain": [
       "['8', '0', '5', '0', '0', '0', '6']"
      ]
     },
     "execution_count": 47,
     "metadata": {},
     "output_type": "execute_result"
    }
   ],
   "source": [
    "numbers[0]"
   ]
  },
  {
   "cell_type": "code",
   "execution_count": 48,
   "id": "58c68fde",
   "metadata": {},
   "outputs": [],
   "source": [
    "words = [[start] + [str(char) for char in nlp(word)] + [end] for word in words]"
   ]
  },
  {
   "cell_type": "code",
   "execution_count": 56,
   "id": "2df95e8e",
   "metadata": {},
   "outputs": [
    {
     "data": {
      "text/plain": [
       "[['<start>',\n",
       "  'eight',\n",
       "  'million',\n",
       "  ',',\n",
       "  'fifty',\n",
       "  'thousand',\n",
       "  'and',\n",
       "  'six',\n",
       "  '<end>'],\n",
       " ['<start>',\n",
       "  'seventy',\n",
       "  '-',\n",
       "  'five',\n",
       "  'thousand',\n",
       "  ',',\n",
       "  'five',\n",
       "  'hundred',\n",
       "  'and',\n",
       "  'fifteen',\n",
       "  '<end>']]"
      ]
     },
     "execution_count": 56,
     "metadata": {},
     "output_type": "execute_result"
    }
   ],
   "source": [
    "words[:2]"
   ]
  },
  {
   "cell_type": "code",
   "execution_count": 50,
   "id": "e370659b",
   "metadata": {},
   "outputs": [],
   "source": [
    "tokenizer.fit_on_texts(numbers + words)"
   ]
  },
  {
   "cell_type": "code",
   "execution_count": 51,
   "id": "ed87b369",
   "metadata": {},
   "outputs": [],
   "source": [
    "vocabLength = len(tokenizer.word_index) + 1\n",
    "seqLength = vocabLength "
   ]
  },
  {
   "cell_type": "code",
   "execution_count": 52,
   "id": "ecfc7173",
   "metadata": {},
   "outputs": [
    {
     "data": {
      "text/plain": [
       "{'and': 1,\n",
       " 'hundred': 2,\n",
       " ',': 3,\n",
       " '-': 4,\n",
       " '3': 5,\n",
       " '6': 6,\n",
       " '2': 7,\n",
       " '5': 8,\n",
       " '1': 9,\n",
       " '4': 10,\n",
       " '9': 11,\n",
       " '7': 12,\n",
       " '8': 13,\n",
       " '0': 14,\n",
       " '<start>': 15,\n",
       " '<end>': 16,\n",
       " 'thousand': 17,\n",
       " 'million': 18,\n",
       " 'one': 19,\n",
       " 'five': 20,\n",
       " 'six': 21,\n",
       " 'three': 22,\n",
       " 'two': 23,\n",
       " 'seven': 24,\n",
       " 'four': 25,\n",
       " 'nine': 26,\n",
       " 'eight': 27,\n",
       " 'thirty': 28,\n",
       " 'sixty': 29,\n",
       " 'twenty': 30,\n",
       " 'fifty': 31,\n",
       " 'eighty': 32,\n",
       " 'forty': 33,\n",
       " 'ninety': 34,\n",
       " 'seventy': 35,\n",
       " 'twelve': 36,\n",
       " 'fifteen': 37,\n",
       " 'ten': 38,\n",
       " 'eleven': 39,\n",
       " 'nineteen': 40,\n",
       " 'sixteen': 41,\n",
       " 'thirteen': 42,\n",
       " 'fourteen': 43,\n",
       " 'eighteen': 44,\n",
       " 'seventeen': 45}"
      ]
     },
     "execution_count": 52,
     "metadata": {},
     "output_type": "execute_result"
    }
   ],
   "source": [
    "tokenizer.word_index"
   ]
  },
  {
   "cell_type": "code",
   "execution_count": 62,
   "id": "00156d80",
   "metadata": {},
   "outputs": [],
   "source": [
    "del data"
   ]
  },
  {
   "cell_type": "code",
   "execution_count": 61,
   "id": "bd3aa78d",
   "metadata": {},
   "outputs": [],
   "source": [
    "encoderInputData = tokenizer.texts_to_sequences(numbers)\n",
    "decoderInputData = tokenizer.texts_to_sequences([i[:-1] for i in words])\n",
    "decoderOuputData = tokenizer.texts_to_sequences([i[1:] for i in words])"
   ]
  },
  {
   "cell_type": "code",
   "execution_count": 69,
   "id": "37ab4ca2",
   "metadata": {},
   "outputs": [
    {
     "ename": "NameError",
     "evalue": "name 'numbers' is not defined",
     "output_type": "error",
     "traceback": [
      "\u001b[1;31m---------------------------------------------------------------------------\u001b[0m",
      "\u001b[1;31mNameError\u001b[0m                                 Traceback (most recent call last)",
      "Input \u001b[1;32mIn [69]\u001b[0m, in \u001b[0;36m<cell line: 1>\u001b[1;34m()\u001b[0m\n\u001b[1;32m----> 1\u001b[0m encoderInputData \u001b[38;5;241m=\u001b[39m \u001b[43mnumbers\u001b[49m\n\u001b[0;32m      2\u001b[0m decoderInputData \u001b[38;5;241m=\u001b[39m pad_sequences(decoderInputData,maxlen\u001b[38;5;241m=\u001b[39mvocabLength,padding\u001b[38;5;241m=\u001b[39m\u001b[38;5;124m'\u001b[39m\u001b[38;5;124mpost\u001b[39m\u001b[38;5;124m'\u001b[39m)\n\u001b[0;32m      3\u001b[0m decoderOuputData \u001b[38;5;241m=\u001b[39m pad_sequences(decoderOuputData,maxlen\u001b[38;5;241m=\u001b[39mvocabLength,padding\u001b[38;5;241m=\u001b[39m\u001b[38;5;124m'\u001b[39m\u001b[38;5;124mpost\u001b[39m\u001b[38;5;124m'\u001b[39m)\n",
      "\u001b[1;31mNameError\u001b[0m: name 'numbers' is not defined"
     ]
    }
   ],
   "source": [
    "encoderInputData = numbers\n",
    "decoderInputData = pad_sequences(decoderInputData,maxlen=vocabLength,padding='post')\n",
    "decoderOuputData = pad_sequences(decoderOuputData,maxlen=vocabLength,padding='post')"
   ]
  },
  {
   "cell_type": "code",
   "execution_count": 64,
   "id": "be08e934",
   "metadata": {},
   "outputs": [],
   "source": [
    "del words\n",
    "del numbers"
   ]
  },
  {
   "cell_type": "code",
   "execution_count": 66,
   "id": "40c08c24",
   "metadata": {},
   "outputs": [
    {
     "data": {
      "text/plain": [
       "(10000, 46)"
      ]
     },
     "execution_count": 66,
     "metadata": {},
     "output_type": "execute_result"
    }
   ],
   "source": [
    "decoderInputData.shape"
   ]
  },
  {
   "cell_type": "code",
   "execution_count": 68,
   "id": "46767ae8",
   "metadata": {},
   "outputs": [
    {
     "ename": "NameError",
     "evalue": "name 'encoderInputData' is not defined",
     "output_type": "error",
     "traceback": [
      "\u001b[1;31m---------------------------------------------------------------------------\u001b[0m",
      "\u001b[1;31mNameError\u001b[0m                                 Traceback (most recent call last)",
      "Input \u001b[1;32mIn [68]\u001b[0m, in \u001b[0;36m<cell line: 2>\u001b[1;34m()\u001b[0m\n\u001b[0;32m      1\u001b[0m xFeatures \u001b[38;5;241m=\u001b[39m {\n\u001b[1;32m----> 2\u001b[0m     \u001b[38;5;124m'\u001b[39m\u001b[38;5;124mencoderInput\u001b[39m\u001b[38;5;124m'\u001b[39m: \u001b[43mencoderInputData\u001b[49m,\n\u001b[0;32m      3\u001b[0m     \u001b[38;5;124m'\u001b[39m\u001b[38;5;124mdecoderInput\u001b[39m\u001b[38;5;124m'\u001b[39m: decoderInputData\n\u001b[0;32m      4\u001b[0m }\n\u001b[0;32m      5\u001b[0m yLabels \u001b[38;5;241m=\u001b[39m {\n\u001b[0;32m      6\u001b[0m     \u001b[38;5;124m'\u001b[39m\u001b[38;5;124mdecoderOutput\u001b[39m\u001b[38;5;124m'\u001b[39m: to_categorical(decoderOutputData,num_classes\u001b[38;5;241m=\u001b[39mvocabLength)\n\u001b[0;32m      7\u001b[0m }\n",
      "\u001b[1;31mNameError\u001b[0m: name 'encoderInputData' is not defined"
     ]
    }
   ],
   "source": [
    "xFeatures = {\n",
    "    'encoderInput': encoderInputData,\n",
    "    'decoderInput': decoderInputData\n",
    "}\n",
    "yLabels = {\n",
    "    'decoderOutput': to_categorical(decoderOutputData,num_classes=vocabLength)\n",
    "}"
   ]
  },
  {
   "cell_type": "code",
   "execution_count": 67,
   "id": "accef7de",
   "metadata": {},
   "outputs": [
    {
     "ename": "NameError",
     "evalue": "name 'decoderOutputData' is not defined",
     "output_type": "error",
     "traceback": [
      "\u001b[1;31m---------------------------------------------------------------------------\u001b[0m",
      "\u001b[1;31mNameError\u001b[0m                                 Traceback (most recent call last)",
      "Input \u001b[1;32mIn [67]\u001b[0m, in \u001b[0;36m<cell line: 3>\u001b[1;34m()\u001b[0m\n\u001b[0;32m      1\u001b[0m \u001b[38;5;28;01mdel\u001b[39;00m encoderInputData\n\u001b[0;32m      2\u001b[0m \u001b[38;5;28;01mdel\u001b[39;00m decoderInputData\n\u001b[1;32m----> 3\u001b[0m \u001b[38;5;28;01mdel\u001b[39;00m decoderOutputData\n",
      "\u001b[1;31mNameError\u001b[0m: name 'decoderOutputData' is not defined"
     ]
    }
   ],
   "source": [
    "del encoderInputData\n",
    "del decoderInputData\n",
    "del decoderOutputData"
   ]
  },
  {
   "cell_type": "code",
   "execution_count": null,
   "id": "64f19cdf",
   "metadata": {},
   "outputs": [],
   "source": [
    "encoderInput,encoderOutput = encoder(vocabLength,seqLength)\n",
    "# encoderModel = Model(inputs=[encoderInput],\n",
    "#                     outputs=[encoderOutput])\n",
    "# decoderInitialState = encoderOutput\n",
    "# encoderModel.summary()"
   ]
  },
  {
   "cell_type": "code",
   "execution_count": null,
   "id": "2304c067",
   "metadata": {},
   "outputs": [],
   "source": [
    "decoderInput,decoderOutput = decoder(decoderInitialState,vocabLength,seqLength)\n",
    "# decoderModel = Model(inputs=[decoderInput],\n",
    "#                     outputs=[decoderOutput])\n",
    "# decoderModel.summary()"
   ]
  },
  {
   "cell_type": "code",
   "execution_count": null,
   "id": "16200b7d",
   "metadata": {},
   "outputs": [],
   "source": [
    "model = Model(inputs=[encoderInput,decoderInput],\n",
    "                    outputs=[decoderOutput])\n",
    "model.compile(\n",
    "             optimizer='adam',\n",
    "             loss='categorical_crossentropy',\n",
    "             metrics=['accuracy']\n",
    "             )"
   ]
  },
  {
   "cell_type": "code",
   "execution_count": null,
   "id": "cd905870",
   "metadata": {},
   "outputs": [],
   "source": [
    "model.fit(\n",
    "          xFeatures,\n",
    "          yLabels,\n",
    "          batch_size=32,\n",
    "          epochs=5,\n",
    "          verbose=True,\n",
    "          workers=-1,\n",
    "          use_multiprocessing=True\n",
    "         )"
   ]
  },
  {
   "cell_type": "code",
   "execution_count": null,
   "id": "332fe35d",
   "metadata": {},
   "outputs": [],
   "source": [
    "# idx = random.randint(0,len(xFeatures2['encoderInput']))\n",
    "# image = xFeatures2['encoderInput'][idx]\n",
    "# image = np.expand_dims(image,axis=0)\n",
    "# dinput = tokenizer.texts_to_sequences([[startSeq]])\n",
    "# dinput = pad_sequences(dinput,maxlen=vocabLength,padding='post',dtype='float32')\n",
    "# # print(dinput)\n",
    "# # calcPred = encoderModel.predict(image)\n",
    "# # for i in calcPred:\n",
    "# #     print(np.argmax(i))\n",
    "# #\n",
    "# x = {\n",
    "#     'encoderInput':image,\n",
    "#     'decoderInput':dinput\n",
    "# }\n",
    "# # initialState = encoderModel.predict(calc)\n",
    "# prediction = model.predict(x,verbose=False)\n",
    "# # #\n",
    "# results = ''\n",
    "# for pred in prediction:\n",
    "#     for i in pred: \n",
    "#         index = np.argmax(i)\n",
    "#         result = tokenizer.index_word[index] if index != 0 else ''\n",
    "#         results += result\n",
    "# print('prediction:',results)\n",
    "# print('image : ')\n",
    "# plt.imshow(image[0]);"
   ]
  }
 ],
 "metadata": {
  "kernelspec": {
   "display_name": "Python 3.10.7 64-bit (microsoft store)",
   "language": "python",
   "name": "python3"
  },
  "language_info": {
   "codemirror_mode": {
    "name": "ipython",
    "version": 3
   },
   "file_extension": ".py",
   "mimetype": "text/x-python",
   "name": "python",
   "nbconvert_exporter": "python",
   "pygments_lexer": "ipython3",
   "version": "3.10.7"
  },
  "vscode": {
   "interpreter": {
    "hash": "edc02bd04fea4e300f4d4a0b5733f93ed21f3dc8ce502490ca4a308df701826c"
   }
  }
 },
 "nbformat": 4,
 "nbformat_minor": 5
}
